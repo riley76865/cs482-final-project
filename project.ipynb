{
 "cells": [
  {
   "cell_type": "code",
   "execution_count": 5,
   "metadata": {},
   "outputs": [],
   "source": [
    "import os\n",
    "#-------------------------------------------------------------------------------\n",
    "def rename_images(paths):\n",
    "    for path in paths:\n",
    "        for i,filename in enumerate(os.listdir(path)):\n",
    "            os.rename(path+filename, filename.split('_')[1]+'_'+str(i)+'.jpg')\n",
    "#-------------------------------------------------------------------------------\n",
    "def combine_images(img_path1,img_path2):\n",
    "    image_paths = os.listdir(img_path1) + os.listdir(img_path2)\n",
    "    labels = [0] * len(os.listdir(img_path1)) + [1] * len(os.listdir(img_path2))\n",
    "    return image_paths,labels\n",
    "#-------------------------------------------------------------------------------"
   ]
  },
  {
   "cell_type": "code",
   "execution_count": 7,
   "metadata": {},
   "outputs": [],
   "source": [
    "# rename images\n",
    "rename_images(['./images/hotdog/','./images/notdog/'])"
   ]
  },
  {
   "cell_type": "code",
   "execution_count": 8,
   "metadata": {},
   "outputs": [],
   "source": [
    "combined_path,labels = combine_images('./images/hotdog/','./images/notdog/')"
   ]
  },
  {
   "cell_type": "code",
   "execution_count": 15,
   "metadata": {},
   "outputs": [],
   "source": [
    "import cv2 as cv\n",
    "import numpy as np\n",
    "from sklearn.cluster import KMeans\n",
    "from sklearn.model_selection import train_test_split\n",
    "from sklearn.svm import SVC\n",
    "\n",
    "# get descriptors (feature extraction)\n",
    "def sift(img_path):\n",
    "    img = cv.imread(img_path)\n",
    "    gray = cv.cvtColor(img,cv.COLOR_BGR2GRAY)\n",
    "    sift = cv.SIFT_create()\n",
    "    kp,desc = sift.detectAndCompute(gray,None) #tuple,nd-array\n",
    "    return kp,desc\n",
    "#-------------------------------------------------------------------------------\n",
    "# KNN clustering into VWs\n",
    "def cluster(features,K):\n",
    "    kmeans = KMeans(n_clusters=K)\n",
    "    features = features.reshape(-1, 1)\n",
    "    kmeans.fit(features)\n",
    "    return kmeans.cluster_centers_\n",
    "#-------------------------------------------------------------------------------\n",
    "# histogram\n",
    "def histogram(img_path,words,kmeans):\n",
    "    kp,desc = sift(img_path=img_path)\n",
    "\n",
    "    word = kmeans.predict(desc)\n",
    "\n",
    "    hist = np.zeros(len(words))\n",
    "    for word in words:\n",
    "        hist[word]+=1\n",
    "    hist = hist / len(kp)\n",
    "    return hist\n",
    "# train\n",
    "#-------------------------------------------------------------------------------\n",
    "# evaluate\n",
    "def train(img_paths,labels,K):\n",
    "    features = []\n",
    "    for img in img_paths:\n",
    "        _,desc = sift(img)\n",
    "        features.append(desc)\n",
    "    words = cluster(features=features,K=K)\n",
    "    kmeans = KMeans(n_clusters=K)\n",
    "    kmeans.cluster_centers_ = words\n",
    "\n",
    "    histogram_list = []\n",
    "    label_list = []\n",
    "\n",
    "    for im,label in zip(img_paths,labels):\n",
    "        histogram_list.append(histogram(im,words,kmeans))\n",
    "        label_list.append(label)\n",
    "\n",
    "    X_train,X_test,Y_train,Y_test = train_test_split(histogram_list,label_list,test_size=0.2)\n",
    "\n",
    "    svm = SVC(kernel='linear')\n",
    "    svm.fit(X_train,Y_train)\n",
    "\n",
    "    accuracy = svm.score(X_test,Y_test)\n",
    "    print('Accuracy: {:.2f}%'.format(accuracy*100))\n",
    "    return svm\n",
    "#-------------------------------------------------------------------------------\n",
    "# predict\n",
    "# def predict(path,words,kmeans,classifier):\n",
    "#     histogram_list = []\n",
    "#     for im in path:\n",
    "#         histogram_list.append(histogram(im,words,kmeans))\n",
    "\n",
    "#     preds = classifier.predict(histogram_list)\n",
    "\n",
    "#     for im,pred in zip(path,preds):"
   ]
  },
  {
   "cell_type": "code",
   "execution_count": 16,
   "metadata": {},
   "outputs": [
    {
     "ename": "AttributeError",
     "evalue": "'list' object has no attribute 'reshape'",
     "output_type": "error",
     "traceback": [
      "\u001b[0;31m---------------------------------------------------------------------------\u001b[0m",
      "\u001b[0;31mAttributeError\u001b[0m                            Traceback (most recent call last)",
      "\u001b[1;32m/Users/riley/Library/CloudStorage/GoogleDrive-riley76865@gmail.com/My Drive/School/Senior Year/Spring 2023/CS482/cs482-final-project/project.ipynb Cell 5\u001b[0m in \u001b[0;36m1\n\u001b[0;32m----> <a href='vscode-notebook-cell:/Users/riley/Library/CloudStorage/GoogleDrive-riley76865%40gmail.com/My%20Drive/School/Senior%20Year/Spring%202023/CS482/cs482-final-project/project.ipynb#X14sZmlsZQ%3D%3D?line=0'>1</a>\u001b[0m train(combined_path,labels,\u001b[39m2\u001b[39;49m)\n",
      "\u001b[1;32m/Users/riley/Library/CloudStorage/GoogleDrive-riley76865@gmail.com/My Drive/School/Senior Year/Spring 2023/CS482/cs482-final-project/project.ipynb Cell 5\u001b[0m in \u001b[0;36m4\n\u001b[1;32m     <a href='vscode-notebook-cell:/Users/riley/Library/CloudStorage/GoogleDrive-riley76865%40gmail.com/My%20Drive/School/Senior%20Year/Spring%202023/CS482/cs482-final-project/project.ipynb#X14sZmlsZQ%3D%3D?line=38'>39</a>\u001b[0m     _,desc \u001b[39m=\u001b[39m sift(img)\n\u001b[1;32m     <a href='vscode-notebook-cell:/Users/riley/Library/CloudStorage/GoogleDrive-riley76865%40gmail.com/My%20Drive/School/Senior%20Year/Spring%202023/CS482/cs482-final-project/project.ipynb#X14sZmlsZQ%3D%3D?line=39'>40</a>\u001b[0m     features\u001b[39m.\u001b[39mappend(desc)\n\u001b[0;32m---> <a href='vscode-notebook-cell:/Users/riley/Library/CloudStorage/GoogleDrive-riley76865%40gmail.com/My%20Drive/School/Senior%20Year/Spring%202023/CS482/cs482-final-project/project.ipynb#X14sZmlsZQ%3D%3D?line=40'>41</a>\u001b[0m words \u001b[39m=\u001b[39m cluster(features\u001b[39m=\u001b[39;49mfeatures,K\u001b[39m=\u001b[39;49mK)\n\u001b[1;32m     <a href='vscode-notebook-cell:/Users/riley/Library/CloudStorage/GoogleDrive-riley76865%40gmail.com/My%20Drive/School/Senior%20Year/Spring%202023/CS482/cs482-final-project/project.ipynb#X14sZmlsZQ%3D%3D?line=41'>42</a>\u001b[0m kmeans \u001b[39m=\u001b[39m KMeans(n_clusters\u001b[39m=\u001b[39mK)\n\u001b[1;32m     <a href='vscode-notebook-cell:/Users/riley/Library/CloudStorage/GoogleDrive-riley76865%40gmail.com/My%20Drive/School/Senior%20Year/Spring%202023/CS482/cs482-final-project/project.ipynb#X14sZmlsZQ%3D%3D?line=42'>43</a>\u001b[0m kmeans\u001b[39m.\u001b[39mcluster_centers_ \u001b[39m=\u001b[39m words\n",
      "\u001b[1;32m/Users/riley/Library/CloudStorage/GoogleDrive-riley76865@gmail.com/My Drive/School/Senior Year/Spring 2023/CS482/cs482-final-project/project.ipynb Cell 5\u001b[0m in \u001b[0;36m1\n\u001b[1;32m     <a href='vscode-notebook-cell:/Users/riley/Library/CloudStorage/GoogleDrive-riley76865%40gmail.com/My%20Drive/School/Senior%20Year/Spring%202023/CS482/cs482-final-project/project.ipynb#X14sZmlsZQ%3D%3D?line=15'>16</a>\u001b[0m \u001b[39mdef\u001b[39;00m \u001b[39mcluster\u001b[39m(features,K):\n\u001b[1;32m     <a href='vscode-notebook-cell:/Users/riley/Library/CloudStorage/GoogleDrive-riley76865%40gmail.com/My%20Drive/School/Senior%20Year/Spring%202023/CS482/cs482-final-project/project.ipynb#X14sZmlsZQ%3D%3D?line=16'>17</a>\u001b[0m     kmeans \u001b[39m=\u001b[39m KMeans(n_clusters\u001b[39m=\u001b[39mK)\n\u001b[0;32m---> <a href='vscode-notebook-cell:/Users/riley/Library/CloudStorage/GoogleDrive-riley76865%40gmail.com/My%20Drive/School/Senior%20Year/Spring%202023/CS482/cs482-final-project/project.ipynb#X14sZmlsZQ%3D%3D?line=17'>18</a>\u001b[0m     features \u001b[39m=\u001b[39m features\u001b[39m.\u001b[39;49mreshape(\u001b[39m-\u001b[39m\u001b[39m1\u001b[39m, \u001b[39m1\u001b[39m)\n\u001b[1;32m     <a href='vscode-notebook-cell:/Users/riley/Library/CloudStorage/GoogleDrive-riley76865%40gmail.com/My%20Drive/School/Senior%20Year/Spring%202023/CS482/cs482-final-project/project.ipynb#X14sZmlsZQ%3D%3D?line=18'>19</a>\u001b[0m     kmeans\u001b[39m.\u001b[39mfit(features)\n\u001b[1;32m     <a href='vscode-notebook-cell:/Users/riley/Library/CloudStorage/GoogleDrive-riley76865%40gmail.com/My%20Drive/School/Senior%20Year/Spring%202023/CS482/cs482-final-project/project.ipynb#X14sZmlsZQ%3D%3D?line=19'>20</a>\u001b[0m     \u001b[39mreturn\u001b[39;00m kmeans\u001b[39m.\u001b[39mcluster_centers_\n",
      "\u001b[0;31mAttributeError\u001b[0m: 'list' object has no attribute 'reshape'"
     ]
    }
   ],
   "source": [
    "train(combined_path,labels,2)"
   ]
  },
  {
   "cell_type": "code",
   "execution_count": null,
   "metadata": {},
   "outputs": [],
   "source": []
  }
 ],
 "metadata": {
  "kernelspec": {
   "display_name": "Python 3",
   "language": "python",
   "name": "python3"
  },
  "language_info": {
   "codemirror_mode": {
    "name": "ipython",
    "version": 3
   },
   "file_extension": ".py",
   "mimetype": "text/x-python",
   "name": "python",
   "nbconvert_exporter": "python",
   "pygments_lexer": "ipython3",
   "version": "3.10.8"
  },
  "orig_nbformat": 4
 },
 "nbformat": 4,
 "nbformat_minor": 2
}
